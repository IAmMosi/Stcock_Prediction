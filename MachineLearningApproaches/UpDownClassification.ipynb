{
 "cells": [
  {
   "cell_type": "code",
   "execution_count": 1,
   "metadata": {},
   "outputs": [
    {
     "name": "stderr",
     "output_type": "stream",
     "text": [
      "c:\\Users\\mostafa.shiri\\AppData\\Local\\Programs\\Python\\Python310\\lib\\site-packages\\tqdm\\auto.py:22: TqdmWarning: IProgress not found. Please update jupyter and ipywidgets. See https://ipywidgets.readthedocs.io/en/stable/user_install.html\n",
      "  from .autonotebook import tqdm as notebook_tqdm\n"
     ]
    },
    {
     "name": "stdout",
     "output_type": "stream",
     "text": [
      "(501,)\n"
     ]
    }
   ],
   "source": [
    "import torch\n",
    "import torch.nn as nn \n",
    "import numpy as np\n",
    "import matplotlib.pyplot as plt\n",
    "import pandas as pd\n",
    "from sklearn.preprocessing import StandardScaler\n",
    "from pylab import rcParams\n",
    "import statistics\n",
    "\n",
    "#Reading data from csv file and calculating return price\n",
    "df = pd.read_csv('UCLA.csv')\n",
    "df = df.drop([0, 1,2, 3])\n",
    "input_data = df[['Price', 'SMA', 'EMA', 'RSI']].values\n",
    "targets = df['Price_Return'].values\n",
    "print(targets.shape)"
   ]
  },
  {
   "cell_type": "code",
   "execution_count": 2,
   "metadata": {},
   "outputs": [],
   "source": [
    "#We use T past values to predict next value\n",
    "#Our data has D dimention (in this problem we have multidimentional data set)\n",
    "T = 3\n",
    "D = input_data.shape[1]\n",
    "N = len(input_data) - T \n",
    "N_train = 2 * len(input_data) // 3\n",
    "#Normalizing training data \n",
    "scaler = StandardScaler()\n",
    "scaler.fit(input_data[: N_train + T -1])\n",
    "input_data = scaler.transform(input_data)"
   ]
  },
  {
   "cell_type": "code",
   "execution_count": 3,
   "metadata": {},
   "outputs": [],
   "source": [
    "#Now we start to build train data set and test data set\n",
    "X_train = np.zeros((N_train, T, D))\n",
    "Y_train = np.zeros((N_train, 1))\n",
    "for i in range(N_train):\n",
    "    X_train[i, :,:] = input_data[i:i+T]\n",
    "    Y_train[i] = (targets[i+T] > 0) #Now the Y is boolean (it is no more regression problem!)\n",
    "\n",
    "X_test = np.zeros((N - N_train, T, D))\n",
    "Y_test = np.zeros((N - N_train, 1))\n",
    "for j in range(N - N_train):\n",
    "    t = j + N_train\n",
    "    X_test[j, :,:] = input_data[t:t+T] #Input's indice of this list should be start from len(N_train)\n",
    "    Y_test[j] = (targets[t+T] > 0)"
   ]
  },
  {
   "cell_type": "code",
   "execution_count": 4,
   "metadata": {},
   "outputs": [],
   "source": [
    "#Thsi is our model. LSTM model with M hidden cells and L layers\n",
    "class RNN(nn.Module):\n",
    "    def __init__(self, n_inputs, n_hidden, n_rnnlayers, n_outputs):\n",
    "        super(RNN, self).__init__()\n",
    "        self.D = n_inputs\n",
    "        self.M = n_hidden\n",
    "        self.K = n_outputs\n",
    "        self.L = n_rnnlayers\n",
    "\n",
    "        self.rnn = nn.LSTM(\n",
    "            input_size=self.D,\n",
    "            hidden_size=self.M,\n",
    "            num_layers=self.L,\n",
    "            batch_first=True,\n",
    "            dropout=0.5)\n",
    "        self.fc = nn.Linear(self.M, self.K)\n",
    "    \n",
    "    def forward(self, X):\n",
    "        h0 = torch.zeros(self.L, X.size(0), self.M)\n",
    "        c0 = torch.zeros(self.L, X.size(0), self.M)\n",
    "        out, _ = self.rnn(X, (h0, c0))\n",
    "        out = self.fc(out[:, -1, :])\n",
    "        return out\n"
   ]
  },
  {
   "cell_type": "code",
   "execution_count": 5,
   "metadata": {},
   "outputs": [],
   "source": [
    "#Now we call our model with arbitary inputs\n",
    "#We define our loss function and optimizer\n",
    "model = RNN(4, 20, 2, 1)\n",
    "criterion = nn.BCEWithLogitsLoss()\n",
    "optimizer = torch.optim.Adam(model.parameters(), lr=0.7)\n",
    "#We preare train and target data sets\n",
    "X_train = torch.from_numpy(X_train.astype(np.float32))\n",
    "y_train = torch.from_numpy(Y_train.astype(np.float32))\n",
    "X_test = torch.from_numpy(X_test.astype(np.float32))\n",
    "y_test = torch.from_numpy(Y_test.astype(np.float32))"
   ]
  },
  {
   "cell_type": "code",
   "execution_count": 6,
   "metadata": {},
   "outputs": [],
   "source": [
    "#The trainig function (gradient descent)\n",
    "def full_gd(model,\n",
    "            criterion,\n",
    "            optimizer, \n",
    "            X_train,\n",
    "            y_train,\n",
    "            X_test,\n",
    "            y_test,\n",
    "            epochs=500):\n",
    "\n",
    "    train_losses = np.zeros(epochs)\n",
    "    test_losses = np.zeros(epochs)\n",
    "\n",
    "    for it in range(epochs):\n",
    "        optimizer.zero_grad()\n",
    "        outputs = model(X_train)\n",
    "        loss = criterion(outputs, y_train)\n",
    "        loss.backward()\n",
    "        optimizer.step()\n",
    "        train_losses [it] = loss.item()\n",
    "        test_outputs = model(X_test)\n",
    "        test_loss = criterion(test_outputs, y_test)\n",
    "        test_losses[it] = test_loss.item()\n",
    "\n",
    "        if (it + 1) % 5 == 0:\n",
    "            print(f'Epoch {it + 1} / {epochs}, Train Loss: {loss.item(): .4f}, Test Loss : {test_loss.item(): .4f}')\n",
    "    print(statistics.mean(test_losses))\n",
    "    print(statistics.mean(train_losses))\n",
    "\n",
    "    return train_losses, test_losses"
   ]
  },
  {
   "cell_type": "code",
   "execution_count": 7,
   "metadata": {},
   "outputs": [
    {
     "name": "stdout",
     "output_type": "stream",
     "text": [
      "Epoch 5 / 500, Train Loss:  0.7344, Test Loss :  0.7750\n",
      "Epoch 10 / 500, Train Loss:  0.7051, Test Loss :  0.6750\n",
      "Epoch 15 / 500, Train Loss:  0.6507, Test Loss :  0.6524\n",
      "Epoch 20 / 500, Train Loss:  0.5579, Test Loss :  0.6152\n",
      "Epoch 25 / 500, Train Loss:  0.5461, Test Loss :  0.5811\n",
      "Epoch 30 / 500, Train Loss:  0.5476, Test Loss :  0.5676\n",
      "Epoch 35 / 500, Train Loss:  0.5062, Test Loss :  0.5964\n",
      "Epoch 40 / 500, Train Loss:  0.5829, Test Loss :  0.5676\n",
      "Epoch 45 / 500, Train Loss:  0.5587, Test Loss :  0.5623\n",
      "Epoch 50 / 500, Train Loss:  0.5269, Test Loss :  0.5860\n",
      "Epoch 55 / 500, Train Loss:  0.5190, Test Loss :  0.6047\n",
      "Epoch 60 / 500, Train Loss:  0.5311, Test Loss :  0.6008\n",
      "Epoch 65 / 500, Train Loss:  0.5502, Test Loss :  0.6211\n",
      "Epoch 70 / 500, Train Loss:  0.5506, Test Loss :  0.6024\n",
      "Epoch 75 / 500, Train Loss:  0.5649, Test Loss :  0.5599\n",
      "Epoch 80 / 500, Train Loss:  0.5386, Test Loss :  0.5866\n",
      "Epoch 85 / 500, Train Loss:  0.5569, Test Loss :  0.6155\n",
      "Epoch 90 / 500, Train Loss:  0.4969, Test Loss :  0.5248\n",
      "Epoch 95 / 500, Train Loss:  0.5539, Test Loss :  0.5430\n",
      "Epoch 100 / 500, Train Loss:  0.5739, Test Loss :  0.5539\n",
      "Epoch 105 / 500, Train Loss:  0.4937, Test Loss :  0.5984\n",
      "Epoch 110 / 500, Train Loss:  0.5363, Test Loss :  0.6222\n",
      "Epoch 115 / 500, Train Loss:  0.5013, Test Loss :  0.5962\n",
      "Epoch 120 / 500, Train Loss:  0.5462, Test Loss :  0.5732\n",
      "Epoch 125 / 500, Train Loss:  0.5142, Test Loss :  0.5296\n",
      "Epoch 130 / 500, Train Loss:  0.5386, Test Loss :  0.6014\n",
      "Epoch 135 / 500, Train Loss:  0.5112, Test Loss :  0.5981\n",
      "Epoch 140 / 500, Train Loss:  0.5181, Test Loss :  0.5873\n",
      "Epoch 145 / 500, Train Loss:  0.5375, Test Loss :  0.6181\n",
      "Epoch 150 / 500, Train Loss:  0.5049, Test Loss :  0.5214\n",
      "Epoch 155 / 500, Train Loss:  0.5015, Test Loss :  0.6200\n",
      "Epoch 160 / 500, Train Loss:  0.5444, Test Loss :  0.5373\n",
      "Epoch 165 / 500, Train Loss:  0.5397, Test Loss :  0.5759\n",
      "Epoch 170 / 500, Train Loss:  0.4946, Test Loss :  0.5560\n",
      "Epoch 175 / 500, Train Loss:  0.4944, Test Loss :  0.6011\n",
      "Epoch 180 / 500, Train Loss:  0.5264, Test Loss :  0.5810\n",
      "Epoch 185 / 500, Train Loss:  0.5425, Test Loss :  0.6242\n",
      "Epoch 190 / 500, Train Loss:  0.5210, Test Loss :  0.5786\n",
      "Epoch 195 / 500, Train Loss:  0.5109, Test Loss :  0.5692\n",
      "Epoch 200 / 500, Train Loss:  0.4948, Test Loss :  0.6157\n",
      "Epoch 205 / 500, Train Loss:  0.5316, Test Loss :  0.5799\n",
      "Epoch 210 / 500, Train Loss:  0.5339, Test Loss :  0.5614\n",
      "Epoch 215 / 500, Train Loss:  0.5195, Test Loss :  0.5645\n",
      "Epoch 220 / 500, Train Loss:  0.5101, Test Loss :  0.6041\n",
      "Epoch 225 / 500, Train Loss:  0.5174, Test Loss :  0.5763\n",
      "Epoch 230 / 500, Train Loss:  0.4783, Test Loss :  0.5660\n",
      "Epoch 235 / 500, Train Loss:  0.5047, Test Loss :  0.6091\n",
      "Epoch 240 / 500, Train Loss:  0.4937, Test Loss :  0.5788\n",
      "Epoch 245 / 500, Train Loss:  0.5042, Test Loss :  0.5815\n",
      "Epoch 250 / 500, Train Loss:  0.5251, Test Loss :  0.5880\n",
      "Epoch 255 / 500, Train Loss:  0.5191, Test Loss :  0.5281\n",
      "Epoch 260 / 500, Train Loss:  0.5131, Test Loss :  0.6289\n",
      "Epoch 265 / 500, Train Loss:  0.5205, Test Loss :  0.5236\n",
      "Epoch 270 / 500, Train Loss:  0.5037, Test Loss :  0.5596\n",
      "Epoch 275 / 500, Train Loss:  0.5023, Test Loss :  0.5704\n",
      "Epoch 280 / 500, Train Loss:  0.4982, Test Loss :  0.5427\n",
      "Epoch 285 / 500, Train Loss:  0.5222, Test Loss :  0.5468\n",
      "Epoch 290 / 500, Train Loss:  0.5178, Test Loss :  0.5853\n",
      "Epoch 295 / 500, Train Loss:  0.5489, Test Loss :  0.5365\n",
      "Epoch 300 / 500, Train Loss:  0.5324, Test Loss :  0.5525\n",
      "Epoch 305 / 500, Train Loss:  0.4702, Test Loss :  0.5648\n",
      "Epoch 310 / 500, Train Loss:  0.5250, Test Loss :  0.5662\n",
      "Epoch 315 / 500, Train Loss:  0.5066, Test Loss :  0.5569\n",
      "Epoch 320 / 500, Train Loss:  0.5260, Test Loss :  0.5605\n",
      "Epoch 325 / 500, Train Loss:  0.5119, Test Loss :  0.6013\n",
      "Epoch 330 / 500, Train Loss:  0.5152, Test Loss :  0.5688\n",
      "Epoch 335 / 500, Train Loss:  0.5191, Test Loss :  0.5733\n",
      "Epoch 340 / 500, Train Loss:  0.5426, Test Loss :  0.5745\n",
      "Epoch 345 / 500, Train Loss:  0.5182, Test Loss :  0.5822\n",
      "Epoch 350 / 500, Train Loss:  0.5030, Test Loss :  0.5533\n",
      "Epoch 355 / 500, Train Loss:  0.4864, Test Loss :  0.5723\n",
      "Epoch 360 / 500, Train Loss:  0.4929, Test Loss :  0.5821\n",
      "Epoch 365 / 500, Train Loss:  0.5107, Test Loss :  0.6595\n",
      "Epoch 370 / 500, Train Loss:  0.5135, Test Loss :  0.5502\n",
      "Epoch 375 / 500, Train Loss:  0.5274, Test Loss :  0.5703\n",
      "Epoch 380 / 500, Train Loss:  0.5104, Test Loss :  0.5368\n",
      "Epoch 385 / 500, Train Loss:  0.4809, Test Loss :  0.5759\n",
      "Epoch 390 / 500, Train Loss:  0.5095, Test Loss :  0.5455\n",
      "Epoch 395 / 500, Train Loss:  0.5051, Test Loss :  0.5228\n",
      "Epoch 400 / 500, Train Loss:  0.5337, Test Loss :  0.5735\n",
      "Epoch 405 / 500, Train Loss:  0.4869, Test Loss :  0.5788\n",
      "Epoch 410 / 500, Train Loss:  0.5176, Test Loss :  0.5515\n",
      "Epoch 415 / 500, Train Loss:  0.5052, Test Loss :  0.5696\n",
      "Epoch 420 / 500, Train Loss:  0.5368, Test Loss :  0.5696\n",
      "Epoch 425 / 500, Train Loss:  0.5038, Test Loss :  0.6272\n",
      "Epoch 430 / 500, Train Loss:  0.5251, Test Loss :  0.6085\n",
      "Epoch 435 / 500, Train Loss:  0.4951, Test Loss :  0.5780\n",
      "Epoch 440 / 500, Train Loss:  0.5155, Test Loss :  0.6082\n",
      "Epoch 445 / 500, Train Loss:  0.5004, Test Loss :  0.5979\n",
      "Epoch 450 / 500, Train Loss:  0.5228, Test Loss :  0.6098\n",
      "Epoch 455 / 500, Train Loss:  0.5483, Test Loss :  0.5823\n",
      "Epoch 460 / 500, Train Loss:  0.5014, Test Loss :  0.6263\n",
      "Epoch 465 / 500, Train Loss:  0.5321, Test Loss :  0.5858\n",
      "Epoch 470 / 500, Train Loss:  0.5193, Test Loss :  0.6119\n",
      "Epoch 475 / 500, Train Loss:  0.5053, Test Loss :  0.6118\n",
      "Epoch 480 / 500, Train Loss:  0.5320, Test Loss :  0.5925\n",
      "Epoch 485 / 500, Train Loss:  0.4789, Test Loss :  0.6016\n",
      "Epoch 490 / 500, Train Loss:  0.5328, Test Loss :  0.6156\n",
      "Epoch 495 / 500, Train Loss:  0.5325, Test Loss :  0.6263\n",
      "Epoch 500 / 500, Train Loss:  0.5059, Test Loss :  0.5800\n",
      "0.5945877627134323\n",
      "0.534910318017006\n"
     ]
    }
   ],
   "source": [
    "#We call trainig function with defined inputs\n",
    "train_losses, test_losses = full_gd(model,\n",
    "                                    criterion,\n",
    "                                    optimizer,\n",
    "                                    X_train,\n",
    "                                    y_train,\n",
    "                                    X_test,\n",
    "                                    y_test)"
   ]
  },
  {
   "cell_type": "code",
   "execution_count": 8,
   "metadata": {},
   "outputs": [
    {
     "data": {
      "image/png": "[encoded data removed]",
      "text/plain": [
       "<Figure size 432x288 with 1 Axes>"
      ]
     },
     "metadata": {
      "needs_background": "light"
     },
     "output_type": "display_data"
    }
   ],
   "source": [
    "#Now we plot the test losses and train losses per iteration\n",
    "plt.plot(train_losses, label='train loss')\n",
    "plt.plot(test_losses, label='test loss')\n",
    "plt.rcParams['figure.figsize'] = 25, 6\n",
    "plt.legend()\n",
    "plt.show()"
   ]
  },
  {
   "cell_type": "code",
   "execution_count": 9,
   "metadata": {},
   "outputs": [
    {
     "name": "stdout",
     "output_type": "stream",
     "text": [
      "Train_acc:  0.7545, Test_acc:  0.6951\n"
     ]
    }
   ],
   "source": [
    "#Now we calculate train and test accuracy\n",
    "with torch.no_grad():\n",
    "    p_train = model(X_train)\n",
    "    p_train = (p_train.cpu().numpy() > 0)\n",
    "    train_acc = np.mean(y_train.cpu().numpy()  == p_train)\n",
    "\n",
    "    p_test = model(X_test)\n",
    "    p_test = (p_test.cpu().numpy() > 0)\n",
    "    test_acc = np.mean(y_test.cpu().numpy()  == p_test)\n",
    "print(f'Train_acc: {train_acc: .4f}, Test_acc: {test_acc: .4f}')"
   ]
  }
 ],
 "metadata": {
  "kernelspec": {
   "display_name": "Python 3.10.5 64-bit",
   "language": "python",
   "name": "python3"
  },
  "language_info": {
   "codemirror_mode": {
    "name": "ipython",
    "version": 3
   },
   "file_extension": ".py",
   "mimetype": "text/x-python",
   "name": "python",
   "nbconvert_exporter": "python",
   "pygments_lexer": "ipython3",
   "version": "3.10.5"
  },
  "orig_nbformat": 4,
  "vscode": {
   "interpreter": {
    "hash": "ebb580f3637aa4f1c8f7d9f178d076290ecfba7f5d6fd28faab0a7ef1433a054"
   }
  }
 },
 "nbformat": 4,
 "nbformat_minor": 2
}
